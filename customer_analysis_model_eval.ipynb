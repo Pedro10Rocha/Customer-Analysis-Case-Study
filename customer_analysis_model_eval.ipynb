{
 "cells": [
  {
   "cell_type": "markdown",
   "id": "69baa2b1",
   "metadata": {},
   "source": [
    "# Car Insurance Claim Linear Regression Model\n",
    "\n"
   ]
  },
  {
   "cell_type": "markdown",
   "source": [],
   "metadata": {
    "collapsed": false
   }
  },
  {
   "cell_type": "code",
   "execution_count": 1,
   "outputs": [],
   "source": [
    "import numpy as np\n",
    "import pandas as pd\n",
    "\n",
    "import matplotlib.pyplot as plt\n",
    "%matplotlib inline\n",
    "import seaborn as sns\n",
    "\n",
    "pd.options.display.max_rows = 100\n",
    "import warnings\n",
    "\n",
    "from sklearn.preprocessing import StandardScaler\n",
    "from sklearn.linear_model import LinearRegression\n",
    "from sklearn.model_selection import train_test_split\n",
    "from sklearn.metrics import r2_score\n",
    "\n",
    "import statsmodels.api as sm\n",
    "\n",
    "warnings.simplefilter(action='ignore', category=FutureWarning)"
   ],
   "metadata": {
    "collapsed": false,
    "ExecuteTime": {
     "end_time": "2023-06-13T09:19:54.356780500Z",
     "start_time": "2023-06-13T09:19:53.595771400Z"
    }
   }
  },
  {
   "cell_type": "code",
   "execution_count": 2,
   "outputs": [],
   "source": [
    "#returns a df with whitespace replaced with underscores\n",
    "def fill_whitespace_with_underscore(df):\n",
    "    if isinstance(df,pd.core.frame.DataFrame):\n",
    "        df.columns = df.columns.str.replace(' ','_')\n",
    "        df.columns = df.columns.str.replace('-','_')\n",
    "    else:\n",
    "        raise TypeError\n",
    "    return df"
   ],
   "metadata": {
    "collapsed": false,
    "ExecuteTime": {
     "end_time": "2023-06-13T09:19:56.254817300Z",
     "start_time": "2023-06-13T09:19:56.254308200Z"
    }
   }
  },
  {
   "cell_type": "code",
   "execution_count": 3,
   "outputs": [],
   "source": [
    "#returns a df of boolean values to used to index a trimmed table in the 1.5*IQR range\n",
    "def Remove_Outlier_Indices(df):\n",
    "    if isinstance(df,pd.core.frame.DataFrame):\n",
    "        Q1 = df.quantile(0.15)\n",
    "        Q3 = df.quantile(0.85)\n",
    "        IQR = Q3 - Q1\n",
    "        trueList = ~((df < (Q1 - 1.5*IQR)) |(df > (Q3 + 1.5*IQR)))\n",
    "    else:\n",
    "        raise TypeError\n",
    "    return trueList"
   ],
   "metadata": {
    "collapsed": false,
    "ExecuteTime": {
     "end_time": "2023-06-13T09:19:58.619278900Z",
     "start_time": "2023-06-13T09:19:58.587593200Z"
    }
   }
  },
  {
   "cell_type": "code",
   "execution_count": 4,
   "id": "7167dcdc",
   "metadata": {
    "hidden": true,
    "ExecuteTime": {
     "end_time": "2023-06-13T09:20:00.897369100Z",
     "start_time": "2023-06-13T09:20:00.830351200Z"
    }
   },
   "outputs": [
    {
     "data": {
      "text/plain": "            region  customer_lifetime_value response  coverage education  \\\n0          central                     4809       no     basic   college   \n1      west region                     2228       no     basic   college   \n2             east                    14947       no     basic  bachelor   \n3       north west                    22332      yes  extended   college   \n4       north west                     9025       no   premium  bachelor   \n...            ...                      ...      ...       ...       ...   \n10684      central                    15563       no   premium  bachelor   \n10685   north west                     5259       no     basic   college   \n10686      central                    23893       no  extended  bachelor   \n10687  west region                    11971       no   premium   college   \n10688      central                     6857       no     basic  bachelor   \n\n      effective_to_date month employment_status gender  income  ...  \\\n0               2/18/11   feb          employed      m   48029  ...   \n1               1/18/11   jan        unemployed      f   92260  ...   \n2               2/10/11   feb          employed      m   22139  ...   \n3               1/11/11   jan          employed      m   49078  ...   \n4               1/17/11   jan     medical leave      f   23675  ...   \n...                 ...   ...               ...    ...     ...  ...   \n10684           1/19/11   jan        unemployed      f   61541  ...   \n10685            1/6/11   jan          employed      f   61146  ...   \n10686            2/6/11   feb          employed      f   39837  ...   \n10687           2/13/11   feb          employed      f   64195  ...   \n10688            1/8/11   jan        unemployed      m   68942  ...   \n\n      months_since_policy_inception number_of_open_complaints  \\\n0                                52                         0   \n1                                26                         0   \n2                                31                         0   \n3                                 3                         0   \n4                                31                         0   \n...                             ...                       ...   \n10684                            40                         0   \n10685                            68                         0   \n10686                            63                         0   \n10687                            27                         4   \n10688                             1                         0   \n\n       number_of_policies     policy_type        policy  renew_offer_type  \\\n0                       9  corporate auto  corporate l3            offer3   \n1                       1   personal auto   personal l3            offer4   \n2                       2   personal auto   personal l3            offer3   \n3                       2  corporate auto  corporate l3            offer2   \n4                       7   personal auto   personal l2            offer1   \n...                   ...             ...           ...               ...   \n10684                   7   personal auto   personal l1            offer3   \n10685                   6   personal auto   personal l3            offer2   \n10686                   2  corporate auto  corporate l3            offer1   \n10687                   6   personal auto   personal l1            offer1   \n10688                   3   personal auto   personal l1            offer4   \n\n       sales_channel total_claim_amount  vehicle_class vehicle_size  \n0              agent                292  four-door car      medsize  \n1        call center                744  four-door car      medsize  \n2        call center                480            suv      medsize  \n3             branch                484  four-door car      medsize  \n4             branch                707  four-door car      medsize  \n...              ...                ...            ...          ...  \n10684            web               1214     luxury car      medsize  \n10685         branch                273  four-door car      medsize  \n10686            web                381     luxury suv      medsize  \n10687         branch                618            suv      medsize  \n10688            web               1021            suv      medsize  \n\n[10689 rows x 24 columns]",
      "text/html": "<div>\n<style scoped>\n    .dataframe tbody tr th:only-of-type {\n        vertical-align: middle;\n    }\n\n    .dataframe tbody tr th {\n        vertical-align: top;\n    }\n\n    .dataframe thead th {\n        text-align: right;\n    }\n</style>\n<table border=\"1\" class=\"dataframe\">\n  <thead>\n    <tr style=\"text-align: right;\">\n      <th></th>\n      <th>region</th>\n      <th>customer_lifetime_value</th>\n      <th>response</th>\n      <th>coverage</th>\n      <th>education</th>\n      <th>effective_to_date</th>\n      <th>month</th>\n      <th>employment_status</th>\n      <th>gender</th>\n      <th>income</th>\n      <th>...</th>\n      <th>months_since_policy_inception</th>\n      <th>number_of_open_complaints</th>\n      <th>number_of_policies</th>\n      <th>policy_type</th>\n      <th>policy</th>\n      <th>renew_offer_type</th>\n      <th>sales_channel</th>\n      <th>total_claim_amount</th>\n      <th>vehicle_class</th>\n      <th>vehicle_size</th>\n    </tr>\n  </thead>\n  <tbody>\n    <tr>\n      <th>0</th>\n      <td>central</td>\n      <td>4809</td>\n      <td>no</td>\n      <td>basic</td>\n      <td>college</td>\n      <td>2/18/11</td>\n      <td>feb</td>\n      <td>employed</td>\n      <td>m</td>\n      <td>48029</td>\n      <td>...</td>\n      <td>52</td>\n      <td>0</td>\n      <td>9</td>\n      <td>corporate auto</td>\n      <td>corporate l3</td>\n      <td>offer3</td>\n      <td>agent</td>\n      <td>292</td>\n      <td>four-door car</td>\n      <td>medsize</td>\n    </tr>\n    <tr>\n      <th>1</th>\n      <td>west region</td>\n      <td>2228</td>\n      <td>no</td>\n      <td>basic</td>\n      <td>college</td>\n      <td>1/18/11</td>\n      <td>jan</td>\n      <td>unemployed</td>\n      <td>f</td>\n      <td>92260</td>\n      <td>...</td>\n      <td>26</td>\n      <td>0</td>\n      <td>1</td>\n      <td>personal auto</td>\n      <td>personal l3</td>\n      <td>offer4</td>\n      <td>call center</td>\n      <td>744</td>\n      <td>four-door car</td>\n      <td>medsize</td>\n    </tr>\n    <tr>\n      <th>2</th>\n      <td>east</td>\n      <td>14947</td>\n      <td>no</td>\n      <td>basic</td>\n      <td>bachelor</td>\n      <td>2/10/11</td>\n      <td>feb</td>\n      <td>employed</td>\n      <td>m</td>\n      <td>22139</td>\n      <td>...</td>\n      <td>31</td>\n      <td>0</td>\n      <td>2</td>\n      <td>personal auto</td>\n      <td>personal l3</td>\n      <td>offer3</td>\n      <td>call center</td>\n      <td>480</td>\n      <td>suv</td>\n      <td>medsize</td>\n    </tr>\n    <tr>\n      <th>3</th>\n      <td>north west</td>\n      <td>22332</td>\n      <td>yes</td>\n      <td>extended</td>\n      <td>college</td>\n      <td>1/11/11</td>\n      <td>jan</td>\n      <td>employed</td>\n      <td>m</td>\n      <td>49078</td>\n      <td>...</td>\n      <td>3</td>\n      <td>0</td>\n      <td>2</td>\n      <td>corporate auto</td>\n      <td>corporate l3</td>\n      <td>offer2</td>\n      <td>branch</td>\n      <td>484</td>\n      <td>four-door car</td>\n      <td>medsize</td>\n    </tr>\n    <tr>\n      <th>4</th>\n      <td>north west</td>\n      <td>9025</td>\n      <td>no</td>\n      <td>premium</td>\n      <td>bachelor</td>\n      <td>1/17/11</td>\n      <td>jan</td>\n      <td>medical leave</td>\n      <td>f</td>\n      <td>23675</td>\n      <td>...</td>\n      <td>31</td>\n      <td>0</td>\n      <td>7</td>\n      <td>personal auto</td>\n      <td>personal l2</td>\n      <td>offer1</td>\n      <td>branch</td>\n      <td>707</td>\n      <td>four-door car</td>\n      <td>medsize</td>\n    </tr>\n    <tr>\n      <th>...</th>\n      <td>...</td>\n      <td>...</td>\n      <td>...</td>\n      <td>...</td>\n      <td>...</td>\n      <td>...</td>\n      <td>...</td>\n      <td>...</td>\n      <td>...</td>\n      <td>...</td>\n      <td>...</td>\n      <td>...</td>\n      <td>...</td>\n      <td>...</td>\n      <td>...</td>\n      <td>...</td>\n      <td>...</td>\n      <td>...</td>\n      <td>...</td>\n      <td>...</td>\n      <td>...</td>\n    </tr>\n    <tr>\n      <th>10684</th>\n      <td>central</td>\n      <td>15563</td>\n      <td>no</td>\n      <td>premium</td>\n      <td>bachelor</td>\n      <td>1/19/11</td>\n      <td>jan</td>\n      <td>unemployed</td>\n      <td>f</td>\n      <td>61541</td>\n      <td>...</td>\n      <td>40</td>\n      <td>0</td>\n      <td>7</td>\n      <td>personal auto</td>\n      <td>personal l1</td>\n      <td>offer3</td>\n      <td>web</td>\n      <td>1214</td>\n      <td>luxury car</td>\n      <td>medsize</td>\n    </tr>\n    <tr>\n      <th>10685</th>\n      <td>north west</td>\n      <td>5259</td>\n      <td>no</td>\n      <td>basic</td>\n      <td>college</td>\n      <td>1/6/11</td>\n      <td>jan</td>\n      <td>employed</td>\n      <td>f</td>\n      <td>61146</td>\n      <td>...</td>\n      <td>68</td>\n      <td>0</td>\n      <td>6</td>\n      <td>personal auto</td>\n      <td>personal l3</td>\n      <td>offer2</td>\n      <td>branch</td>\n      <td>273</td>\n      <td>four-door car</td>\n      <td>medsize</td>\n    </tr>\n    <tr>\n      <th>10686</th>\n      <td>central</td>\n      <td>23893</td>\n      <td>no</td>\n      <td>extended</td>\n      <td>bachelor</td>\n      <td>2/6/11</td>\n      <td>feb</td>\n      <td>employed</td>\n      <td>f</td>\n      <td>39837</td>\n      <td>...</td>\n      <td>63</td>\n      <td>0</td>\n      <td>2</td>\n      <td>corporate auto</td>\n      <td>corporate l3</td>\n      <td>offer1</td>\n      <td>web</td>\n      <td>381</td>\n      <td>luxury suv</td>\n      <td>medsize</td>\n    </tr>\n    <tr>\n      <th>10687</th>\n      <td>west region</td>\n      <td>11971</td>\n      <td>no</td>\n      <td>premium</td>\n      <td>college</td>\n      <td>2/13/11</td>\n      <td>feb</td>\n      <td>employed</td>\n      <td>f</td>\n      <td>64195</td>\n      <td>...</td>\n      <td>27</td>\n      <td>4</td>\n      <td>6</td>\n      <td>personal auto</td>\n      <td>personal l1</td>\n      <td>offer1</td>\n      <td>branch</td>\n      <td>618</td>\n      <td>suv</td>\n      <td>medsize</td>\n    </tr>\n    <tr>\n      <th>10688</th>\n      <td>central</td>\n      <td>6857</td>\n      <td>no</td>\n      <td>basic</td>\n      <td>bachelor</td>\n      <td>1/8/11</td>\n      <td>jan</td>\n      <td>unemployed</td>\n      <td>m</td>\n      <td>68942</td>\n      <td>...</td>\n      <td>1</td>\n      <td>0</td>\n      <td>3</td>\n      <td>personal auto</td>\n      <td>personal l1</td>\n      <td>offer4</td>\n      <td>web</td>\n      <td>1021</td>\n      <td>suv</td>\n      <td>medsize</td>\n    </tr>\n  </tbody>\n</table>\n<p>10689 rows × 24 columns</p>\n</div>"
     },
     "execution_count": 4,
     "metadata": {},
     "output_type": "execute_result"
    }
   ],
   "source": [
    "c2_df = pd.read_csv(\"C:/Users/pedro/Documents/GitHub/IronHackLabs/Week2/Data_Marketing_Customer_Analysis_Round3.csv\")\n",
    "c2_df"
   ]
  },
  {
   "cell_type": "code",
   "execution_count": 6,
   "outputs": [],
   "source": [
    "#Drop useless column\n",
    "c2_df.drop(['effective_to_date'],axis=1,inplace=True)"
   ],
   "metadata": {
    "collapsed": false,
    "ExecuteTime": {
     "end_time": "2023-06-13T09:20:21.145866Z",
     "start_time": "2023-06-13T09:20:21.127910200Z"
    }
   }
  },
  {
   "cell_type": "code",
   "execution_count": 7,
   "id": "57257b44",
   "metadata": {
    "hidden": true,
    "ExecuteTime": {
     "end_time": "2023-06-13T09:20:23.710329400Z",
     "start_time": "2023-06-13T09:20:23.691403900Z"
    }
   },
   "outputs": [
    {
     "data": {
      "text/plain": "Index(['region', 'customer_lifetime_value', 'response', 'coverage',\n       'education', 'month', 'employment_status', 'gender', 'income',\n       'location_code', 'marital_status', 'monthly_premium_auto',\n       'months_since_last_claim', 'months_since_policy_inception',\n       'number_of_open_complaints', 'number_of_policies', 'policy_type',\n       'policy', 'renew_offer_type', 'sales_channel', 'total_claim_amount',\n       'vehicle_class', 'vehicle_size'],\n      dtype='object')"
     },
     "execution_count": 7,
     "metadata": {},
     "output_type": "execute_result"
    }
   ],
   "source": [
    "c2_df.columns"
   ]
  },
  {
   "cell_type": "code",
   "execution_count": 8,
   "outputs": [],
   "source": [
    "X = c2_df.drop(['total_claim_amount'], axis=1) # trimmed target variable\n",
    "y = c2_df.total_claim_amount # trimmed independent var (vec)`\n",
    "\n",
    "dM_n = X.select_dtypes(exclude=object)\n",
    "dM_c = pd.get_dummies(X.select_dtypes(include=object),prefix=\"dmy\",drop_first=True)\n",
    "\n",
    "# Index List of Non-Outliers\n",
    "nonOutlierList = Remove_Outlier_Indices(dM_n)\n",
    "\n",
    "dM_c = dM_c[nonOutlierList.all(1)]\n",
    "dM_n = dM_n[nonOutlierList.all(1)]\n",
    "\n",
    "X = pd.concat([dM_n,dM_c],axis=1)\n",
    "y = y[nonOutlierList.all(1)]"
   ],
   "metadata": {
    "collapsed": false,
    "ExecuteTime": {
     "end_time": "2023-06-13T09:21:27.061866Z",
     "start_time": "2023-06-13T09:21:27.002508100Z"
    }
   }
  },
  {
   "cell_type": "code",
   "execution_count": null,
   "outputs": [],
   "source": [
    "X"
   ],
   "metadata": {
    "collapsed": false
   }
  },
  {
   "cell_type": "code",
   "execution_count": null,
   "id": "7f469129",
   "metadata": {},
   "outputs": [],
   "source": [
    "TEST_SIZE = .25\n",
    "RANDOM_STATE = 123 # reproduce the same results. disables randomization\n",
    "X_train, X_test, y_train, y_test = train_test_split(X, y, test_size=TEST_SIZE,random_state=RANDOM_STATE)"
   ]
  },
  {
   "cell_type": "code",
   "execution_count": null,
   "outputs": [],
   "source": [
    "X_train.dtypes"
   ],
   "metadata": {
    "collapsed": false
   }
  },
  {
   "cell_type": "code",
   "execution_count": null,
   "outputs": [],
   "source": [
    "X_train[dM_n.columns]"
   ],
   "metadata": {
    "collapsed": false
   }
  },
  {
   "cell_type": "code",
   "execution_count": null,
   "outputs": [],
   "source": [
    "transformer = StandardScaler()\n",
    "transformer.fit(X_train[dM_n.columns] )\n",
    "\n",
    "X_test[dM_n.columns] = transformer.transform(X_test[dM_n.columns])\n",
    "X_train[dM_n.columns] = transformer.transform(X_train[dM_n.columns])"
   ],
   "metadata": {
    "collapsed": false
   }
  },
  {
   "cell_type": "markdown",
   "id": "de7337d1",
   "metadata": {},
   "source": [
    "### Apply linear regression model"
   ]
  },
  {
   "cell_type": "code",
   "execution_count": null,
   "id": "54a62598",
   "metadata": {},
   "outputs": [],
   "source": [
    "model = LinearRegression()   # model is y = SUM(slopes*Xs) + intercept\n",
    "model.fit(X_train, y_train) # compute for me the coefficients (slopes and intercept)\n",
    "y_pred       = model.predict(X_test)   # model prediction [test]\n",
    "y_pred_train = model.predict(X_train)  # model prediction [train]"
   ]
  },
  {
   "cell_type": "code",
   "execution_count": null,
   "id": "0d5c9337",
   "metadata": {},
   "outputs": [],
   "source": [
    "fig, ax = plt.subplots(1,3,figsize=(14,4))\n",
    "\n",
    "# forms a line?\n",
    "ax[0].plot(y_pred, y_test, 'o', color='red')\n",
    "ax[0].set_xlabel(\"y_test\")\n",
    "ax[0].set_ylabel(\"y_pred\")\n",
    "ax[0].set_title(\"test set predictions vs. actuals\")\n",
    "\n",
    "# normal distribution?\n",
    "ax[1].hist(y_test - y_pred, color='blue')\n",
    "ax[1].set_xlabel(\"Test y-y_pred\")\n",
    "ax[1].set_title(\"test set residuals\")\n",
    "\n",
    "# constant?\n",
    "ax[2].plot(y_pred,y_test - y_pred,\"o\", color='green')\n",
    "ax[2].set_xlabel(\"predited\")\n",
    "ax[2].set_ylabel(\"residuals\")\n",
    "ax[2].set_title(\"residual homoscedasticity\")\n",
    "ax[2].plot(y_pred,np.zeros(len(y_pred)),linestyle='dashed', color='black',linewidth=2)"
   ]
  },
  {
   "cell_type": "code",
   "execution_count": null,
   "id": "aba7ef44",
   "metadata": {},
   "outputs": [],
   "source": [
    "sns.regplot(x='y_pred',y='y_test', data=pd.DataFrame({\"y_test\": y_test, \"y_pred\": y_pred}) ,\n",
    "            scatter_kws={\"color\": \"red\"}, line_kws={\"color\": \"black\"})"
   ]
  },
  {
   "cell_type": "code",
   "execution_count": null,
   "outputs": [],
   "source": [
    "R2     = r2_score(y_test,y_pred)\n",
    "Adj_R2 = 1 - (1-R2)*(len(y_test)-1)/(len(y_test)-X_test.shape[1]-1)\n",
    "\n",
    "R2,Adj_R2"
   ],
   "metadata": {
    "collapsed": false
   }
  },
  {
   "cell_type": "code",
   "execution_count": null,
   "outputs": [],
   "source": [
    "X_train_const_ct = sm.add_constant(X_train) # adding a constant\n",
    "\n",
    "model = sm.OLS(y_train, X_train_const_ct).fit()\n",
    "predictions_train = model.predict(X_train_const_ct)\n",
    "\n",
    "X_test_const_ct = sm.add_constant(X_test) # adding a constant\n",
    "predictions_test = model.predict(X_test_const_ct)\n",
    "print_model = model.summary()\n",
    "print(print_model)\n"
   ],
   "metadata": {
    "collapsed": false
   }
  },
  {
   "cell_type": "code",
   "execution_count": null,
   "outputs": [],
   "source": [
    "model.params"
   ],
   "metadata": {
    "collapsed": false
   }
  },
  {
   "cell_type": "code",
   "execution_count": null,
   "outputs": [],
   "source": [
    "sigparams = model.params[list(np.where(model.pvalues < 0.05)[0])].iloc[0:].index.tolist()\n",
    "sigparams"
   ],
   "metadata": {
    "collapsed": false
   }
  },
  {
   "cell_type": "code",
   "execution_count": null,
   "outputs": [],
   "source": [
    "from statsmodels.formula.api import ols"
   ],
   "metadata": {
    "collapsed": false
   }
  },
  {
   "cell_type": "code",
   "execution_count": null,
   "outputs": [],
   "source": [
    "X_train_df = fill_whitespace_with_underscore(pd.DataFrame(X_train, columns=X.columns))\n",
    "y_train_df = pd.DataFrame(y_train)\n",
    "data = pd.concat([X_train_df, y_train_df], axis=1)"
   ],
   "metadata": {
    "collapsed": false
   }
  },
  {
   "cell_type": "code",
   "execution_count": null,
   "outputs": [],
   "source": [
    "headers = list(data.columns[:-1])\n",
    "headers"
   ],
   "metadata": {
    "collapsed": false
   }
  },
  {
   "cell_type": "code",
   "execution_count": null,
   "outputs": [],
   "source": [
    "eqn = 'total_claim_amount~' + '+'.join(headers)\n",
    "eqn"
   ],
   "metadata": {
    "collapsed": false
   }
  },
  {
   "cell_type": "code",
   "execution_count": null,
   "outputs": [],
   "source": [
    "model = ols(formula=eqn,data=data).fit()"
   ],
   "metadata": {
    "collapsed": false
   }
  },
  {
   "cell_type": "code",
   "execution_count": null,
   "outputs": [],
   "source": [
    "model.summary()"
   ],
   "metadata": {
    "collapsed": false
   }
  },
  {
   "cell_type": "code",
   "execution_count": null,
   "outputs": [],
   "source": [],
   "metadata": {
    "collapsed": false
   }
  }
 ],
 "metadata": {
  "kernelspec": {
   "display_name": "Python 3 (ipykernel)",
   "language": "python",
   "name": "python3"
  },
  "language_info": {
   "codemirror_mode": {
    "name": "ipython",
    "version": 3
   },
   "file_extension": ".py",
   "mimetype": "text/x-python",
   "name": "python",
   "nbconvert_exporter": "python",
   "pygments_lexer": "ipython3",
   "version": "3.9.13"
  },
  "toc": {
   "base_numbering": 1,
   "nav_menu": {},
   "number_sections": true,
   "sideBar": true,
   "skip_h1_title": false,
   "title_cell": "Table of Contents",
   "title_sidebar": "Contents",
   "toc_cell": false,
   "toc_position": {
    "height": "calc(100% - 180px)",
    "left": "10px",
    "top": "150px",
    "width": "271.6px"
   },
   "toc_section_display": true,
   "toc_window_display": true
  },
  "varInspector": {
   "cols": {
    "lenName": 16,
    "lenType": 16,
    "lenVar": 40
   },
   "kernels_config": {
    "python": {
     "delete_cmd_postfix": "",
     "delete_cmd_prefix": "del ",
     "library": "var_list.py",
     "varRefreshCmd": "print(var_dic_list())"
    },
    "r": {
     "delete_cmd_postfix": ") ",
     "delete_cmd_prefix": "rm(",
     "library": "var_list.r",
     "varRefreshCmd": "cat(var_dic_list()) "
    }
   },
   "types_to_exclude": [
    "module",
    "function",
    "builtin_function_or_method",
    "instance",
    "_Feature"
   ],
   "window_display": false
  }
 },
 "nbformat": 4,
 "nbformat_minor": 5
}
