{
 "cells": [
  {
   "cell_type": "code",
   "execution_count": null,
   "id": "529d1840",
   "metadata": {},
   "outputs": [],
   "source": [
    "import numpy as np\n",
    "import pandas as pd\n",
    "import matplotlib.pyplot as plt\n",
    "%matplotlib inline\n",
    "import seaborn as sns\n",
    "import pandas as pd\n",
    "from sklearn.preprocessing import PowerTransformer\n",
    "from sklearn.compose import ColumnTransformer\n",
    "from sklearn.linear_model import LinearRegression\n",
    "from sklearn.model_selection import train_test_split\n",
    "import statsmodels.api as sm\n",
    "from sklearn.metrics import r2_score\n",
    "from sklearn.metrics import mean_squared_error as mse\n",
    "from sklearn.metrics import mean_absolute_error as mae\n",
    "from\n",
    "df = pd.read_csv(\"C:/Users/pedro/Documents/GitHub/IronHackLabs/Week2/Data_Marketing_Customer_Analysis_Round3.csv\")\n",
    "df = pd.DataFrame(df)\n",
    "df"
   ]
  },
  {
   "cell_type": "code",
   "execution_count": null,
   "id": "b8ddbe7f",
   "metadata": {},
   "outputs": [],
   "source": [
    "#Separing train and test samples\n",
    "TT_RATIO = 0.3\n",
    "RAND_STATE = 40\n",
    "x = df.drop('total_claim_amount', axis=1)\n",
    "y = df.total_claim_amount\n",
    "x_train, x_test, y_train, y_test = train_test_split(x, y, test_size=TT_RATIO, random_state=RAND_STATE)\n",
    "x_train = pd.DataFrame(x_train)\n",
    "x_test = pd.DataFrame(x_test)\n",
    "numericalX = x.select_dtypes(np.number)\n",
    "categoricalx = x.select_dtypes(object)"
   ]
  },
  {
   "cell_type": "code",
   "execution_count": null,
   "id": "3c884480",
   "metadata": {},
   "outputs": [],
   "source": [
    "#Normalize the data\n",
    "pt = PowerTransformer()\n",
    "ct = ColumnTransformer([(\"pt\", pt, list(numericalX.columns))],\n",
    "                        remainder='drop',verbose_feature_names_out=True,verbose=True).fit(x_train)\n",
    "x_train_ct = pd.DataFrame(ct.transform(x_train),columns=ct.get_feature_names_out())\n",
    "x_test_ct = pd.DataFrame(ct.transform(x_test),columns=ct.get_feature_names_out())"
   ]
  },
  {
   "cell_type": "code",
   "execution_count": null,
   "id": "1ec33e38",
   "metadata": {},
   "outputs": [],
   "source": [
    "#Make the normalized data a DataFrame\n",
    "x_train = pd.DataFrame(x_train_ct)"
   ]
  },
  {
   "cell_type": "code",
   "execution_count": null,
   "id": "a1c5d877",
   "metadata": {
    "scrolled": true
   },
   "outputs": [],
   "source": [
    "#Train the model using Ordinary least squares\n",
    "x_train_const_ct = sm.add_constant(x_train_ct.to_numpy()) # adding a constant\n",
    "\n",
    "model = sm.OLS(y_train, x_train_const_ct).fit()\n",
    "predictions_train = model.predict(x_train_const_ct)\n",
    "\n",
    "x_test_const_ct = sm.add_constant(x_test_ct) # adding a constant\n",
    "predictions_test = model.predict(x_test_const_ct)\n",
    "print_model = model.summary()\n",
    "print(print_model)"
   ]
  },
  {
   "cell_type": "code",
   "execution_count": null,
   "id": "013f8f48",
   "metadata": {},
   "outputs": [],
   "source": [
    "#Train the model using linear regression.\n",
    "model2=LinearRegression()    # model\n",
    "model2.fit(x_train_ct, y_train)   # model train"
   ]
  },
  {
   "cell_type": "code",
   "execution_count": null,
   "id": "cbafa169",
   "metadata": {},
   "outputs": [],
   "source": [
    "#Check the coeficiente. Part have a negative correlation, part positive.\n",
    "model2.coef_"
   ]
  },
  {
   "cell_type": "code",
   "execution_count": null,
   "id": "396f0c4b",
   "metadata": {},
   "outputs": [],
   "source": [
    "#Checking the constant value.\n",
    "model2.intercept_"
   ]
  },
  {
   "cell_type": "code",
   "execution_count": null,
   "id": "f02d0363",
   "metadata": {},
   "outputs": [],
   "source": [
    "#Make the predictions.\n",
    "y_pred = pd.DataFrame(model2.predict(x_test_ct),columns = ['total_claim_amount'] )      # model prediction\n",
    "y_pred_train =  pd.DataFrame(model2.predict(x_train_ct),columns = ['total_claim_amount'])"
   ]
  },
  {
   "cell_type": "code",
   "execution_count": null,
   "id": "cf1bf6b7",
   "metadata": {},
   "outputs": [],
   "source": [
    "#Model Evaluation: MSE, MAE, RMSE. The model is not that great.\n",
    "print(mse(y_test,y_pred))\n",
    "mse = mse(y_test, y_pred)\n",
    "print(mae(y_test,y_pred))\n",
    "np.sqrt(mse)"
   ]
  },
  {
   "cell_type": "code",
   "execution_count": 17,
   "id": "1b3e41c2",
   "metadata": {
    "ExecuteTime": {
     "end_time": "2023-06-13T11:43:43.959550400Z",
     "start_time": "2023-06-13T11:43:43.959041400Z"
    }
   },
   "outputs": [
    {
     "data": {
      "text/plain": "0.28446313398568024"
     },
     "execution_count": 17,
     "metadata": {},
     "output_type": "execute_result"
    }
   ],
   "source": [
    "R2=r2_score(y_test,y_pred) #the R2 is too low, showing that the model is not good for prediction.\n",
    "R2\n",
    "Adj_R2= 1 - (1-R2)*(len(y_test)-1)/(len(y_test)-x_test.shape[1]-1)\n",
    "Adj_R2"
   ]
  },
  {
   "cell_type": "code",
   "execution_count": 21,
   "id": "042bf7e0",
   "metadata": {
    "ExecuteTime": {
     "end_time": "2023-06-13T11:44:34.238777200Z",
     "start_time": "2023-06-13T11:44:34.238777200Z"
    }
   },
   "outputs": [],
   "source": [
    "#Feature Importance to check what columns are the most important.\n",
    "feature_importances = pd.DataFrame(data= {'Attribute': x_train.columns, 'Importance': abs(model2.coef_.reshape(len(x_train.columns),))})\n",
    "feature_importances = feature_importances.sort_values(by='Importance', ascending=False)"
   ]
  },
  {
   "cell_type": "code",
   "execution_count": 23,
   "outputs": [
    {
     "data": {
      "text/plain": "                           Attribute  Importance\n2           pt__monthly_premium_auto  163.794492\n1                         pt__income   35.917429\n5      pt__number_of_open_complaints    5.554372\n0        pt__customer_lifetime_value    4.050760\n6             pt__number_of_policies    2.362977\n3        pt__months_since_last_claim    1.201657\n4  pt__months_since_policy_inception    0.358445",
      "text/html": "<div>\n<style scoped>\n    .dataframe tbody tr th:only-of-type {\n        vertical-align: middle;\n    }\n\n    .dataframe tbody tr th {\n        vertical-align: top;\n    }\n\n    .dataframe thead th {\n        text-align: right;\n    }\n</style>\n<table border=\"1\" class=\"dataframe\">\n  <thead>\n    <tr style=\"text-align: right;\">\n      <th></th>\n      <th>Attribute</th>\n      <th>Importance</th>\n    </tr>\n  </thead>\n  <tbody>\n    <tr>\n      <th>2</th>\n      <td>pt__monthly_premium_auto</td>\n      <td>163.794492</td>\n    </tr>\n    <tr>\n      <th>1</th>\n      <td>pt__income</td>\n      <td>35.917429</td>\n    </tr>\n    <tr>\n      <th>5</th>\n      <td>pt__number_of_open_complaints</td>\n      <td>5.554372</td>\n    </tr>\n    <tr>\n      <th>0</th>\n      <td>pt__customer_lifetime_value</td>\n      <td>4.050760</td>\n    </tr>\n    <tr>\n      <th>6</th>\n      <td>pt__number_of_policies</td>\n      <td>2.362977</td>\n    </tr>\n    <tr>\n      <th>3</th>\n      <td>pt__months_since_last_claim</td>\n      <td>1.201657</td>\n    </tr>\n    <tr>\n      <th>4</th>\n      <td>pt__months_since_policy_inception</td>\n      <td>0.358445</td>\n    </tr>\n  </tbody>\n</table>\n</div>"
     },
     "execution_count": 23,
     "metadata": {},
     "output_type": "execute_result"
    }
   ],
   "source": [
    "#Monthly_premium_auto is the most relevant feature for the prediction.\n",
    "feature_importances"
   ],
   "metadata": {
    "collapsed": false,
    "ExecuteTime": {
     "end_time": "2023-06-13T11:46:50.738525400Z",
     "start_time": "2023-06-13T11:46:50.722358900Z"
    }
   }
  },
  {
   "cell_type": "code",
   "execution_count": 24,
   "id": "5a4ce992",
   "metadata": {
    "ExecuteTime": {
     "end_time": "2023-06-13T11:48:31.429650800Z",
     "start_time": "2023-06-13T11:48:31.412919500Z"
    }
   },
   "outputs": [
    {
     "data": {
      "text/plain": "       coverage education month        policy renew_offer_type vehicle_size\n0         basic   college   feb  corporate l3           offer3      medsize\n1         basic   college   jan   personal l3           offer4      medsize\n2         basic  bachelor   feb   personal l3           offer3      medsize\n3      extended   college   jan  corporate l3           offer2      medsize\n4       premium  bachelor   jan   personal l2           offer1      medsize\n...         ...       ...   ...           ...              ...          ...\n10684   premium  bachelor   jan   personal l1           offer3      medsize\n10685     basic   college   jan   personal l3           offer2      medsize\n10686  extended  bachelor   feb  corporate l3           offer1      medsize\n10687   premium   college   feb   personal l1           offer1      medsize\n10688     basic  bachelor   jan   personal l1           offer4      medsize\n\n[10689 rows x 6 columns]",
      "text/html": "<div>\n<style scoped>\n    .dataframe tbody tr th:only-of-type {\n        vertical-align: middle;\n    }\n\n    .dataframe tbody tr th {\n        vertical-align: top;\n    }\n\n    .dataframe thead th {\n        text-align: right;\n    }\n</style>\n<table border=\"1\" class=\"dataframe\">\n  <thead>\n    <tr style=\"text-align: right;\">\n      <th></th>\n      <th>coverage</th>\n      <th>education</th>\n      <th>month</th>\n      <th>policy</th>\n      <th>renew_offer_type</th>\n      <th>vehicle_size</th>\n    </tr>\n  </thead>\n  <tbody>\n    <tr>\n      <th>0</th>\n      <td>basic</td>\n      <td>college</td>\n      <td>feb</td>\n      <td>corporate l3</td>\n      <td>offer3</td>\n      <td>medsize</td>\n    </tr>\n    <tr>\n      <th>1</th>\n      <td>basic</td>\n      <td>college</td>\n      <td>jan</td>\n      <td>personal l3</td>\n      <td>offer4</td>\n      <td>medsize</td>\n    </tr>\n    <tr>\n      <th>2</th>\n      <td>basic</td>\n      <td>bachelor</td>\n      <td>feb</td>\n      <td>personal l3</td>\n      <td>offer3</td>\n      <td>medsize</td>\n    </tr>\n    <tr>\n      <th>3</th>\n      <td>extended</td>\n      <td>college</td>\n      <td>jan</td>\n      <td>corporate l3</td>\n      <td>offer2</td>\n      <td>medsize</td>\n    </tr>\n    <tr>\n      <th>4</th>\n      <td>premium</td>\n      <td>bachelor</td>\n      <td>jan</td>\n      <td>personal l2</td>\n      <td>offer1</td>\n      <td>medsize</td>\n    </tr>\n    <tr>\n      <th>...</th>\n      <td>...</td>\n      <td>...</td>\n      <td>...</td>\n      <td>...</td>\n      <td>...</td>\n      <td>...</td>\n    </tr>\n    <tr>\n      <th>10684</th>\n      <td>premium</td>\n      <td>bachelor</td>\n      <td>jan</td>\n      <td>personal l1</td>\n      <td>offer3</td>\n      <td>medsize</td>\n    </tr>\n    <tr>\n      <th>10685</th>\n      <td>basic</td>\n      <td>college</td>\n      <td>jan</td>\n      <td>personal l3</td>\n      <td>offer2</td>\n      <td>medsize</td>\n    </tr>\n    <tr>\n      <th>10686</th>\n      <td>extended</td>\n      <td>bachelor</td>\n      <td>feb</td>\n      <td>corporate l3</td>\n      <td>offer1</td>\n      <td>medsize</td>\n    </tr>\n    <tr>\n      <th>10687</th>\n      <td>premium</td>\n      <td>college</td>\n      <td>feb</td>\n      <td>personal l1</td>\n      <td>offer1</td>\n      <td>medsize</td>\n    </tr>\n    <tr>\n      <th>10688</th>\n      <td>basic</td>\n      <td>bachelor</td>\n      <td>jan</td>\n      <td>personal l1</td>\n      <td>offer4</td>\n      <td>medsize</td>\n    </tr>\n  </tbody>\n</table>\n<p>10689 rows × 6 columns</p>\n</div>"
     },
     "execution_count": 24,
     "metadata": {},
     "output_type": "execute_result"
    }
   ],
   "source": [
    "#Separating nominals and ordinals\n",
    "c1 = categoricalx[['region','response', 'gender', 'marital_status', 'employment_status', 'sales_channel', 'vehicle_class', 'policy_type']].copy()\n",
    "c2 = categoricalx[['coverage', 'education', 'month', 'policy', 'renew_offer_type', 'vehicle_size']].copy()\n",
    "c2"
   ]
  },
  {
   "cell_type": "code",
   "execution_count": 25,
   "id": "56000acb",
   "metadata": {
    "ExecuteTime": {
     "end_time": "2023-06-13T11:49:11.119894700Z",
     "start_time": "2023-06-13T11:49:11.047386400Z"
    }
   },
   "outputs": [
    {
     "data": {
      "text/plain": "       coverage  education  month  policy renew_offer_type  vehicle_size\n0             0          2      1       6           offer3             1\n1             0          2      0       3           offer4             1\n2             0          1      1       3           offer3             1\n3             1          2      0       6           offer2             1\n4             2          1      0       2           offer1             1\n...         ...        ...    ...     ...              ...           ...\n10684         2          1      0       1           offer3             1\n10685         0          2      0       3           offer2             1\n10686         1          1      1       6           offer1             1\n10687         2          2      1       1           offer1             1\n10688         0          1      0       1           offer4             1\n\n[10689 rows x 6 columns]",
      "text/html": "<div>\n<style scoped>\n    .dataframe tbody tr th:only-of-type {\n        vertical-align: middle;\n    }\n\n    .dataframe tbody tr th {\n        vertical-align: top;\n    }\n\n    .dataframe thead th {\n        text-align: right;\n    }\n</style>\n<table border=\"1\" class=\"dataframe\">\n  <thead>\n    <tr style=\"text-align: right;\">\n      <th></th>\n      <th>coverage</th>\n      <th>education</th>\n      <th>month</th>\n      <th>policy</th>\n      <th>renew_offer_type</th>\n      <th>vehicle_size</th>\n    </tr>\n  </thead>\n  <tbody>\n    <tr>\n      <th>0</th>\n      <td>0</td>\n      <td>2</td>\n      <td>1</td>\n      <td>6</td>\n      <td>offer3</td>\n      <td>1</td>\n    </tr>\n    <tr>\n      <th>1</th>\n      <td>0</td>\n      <td>2</td>\n      <td>0</td>\n      <td>3</td>\n      <td>offer4</td>\n      <td>1</td>\n    </tr>\n    <tr>\n      <th>2</th>\n      <td>0</td>\n      <td>1</td>\n      <td>1</td>\n      <td>3</td>\n      <td>offer3</td>\n      <td>1</td>\n    </tr>\n    <tr>\n      <th>3</th>\n      <td>1</td>\n      <td>2</td>\n      <td>0</td>\n      <td>6</td>\n      <td>offer2</td>\n      <td>1</td>\n    </tr>\n    <tr>\n      <th>4</th>\n      <td>2</td>\n      <td>1</td>\n      <td>0</td>\n      <td>2</td>\n      <td>offer1</td>\n      <td>1</td>\n    </tr>\n    <tr>\n      <th>...</th>\n      <td>...</td>\n      <td>...</td>\n      <td>...</td>\n      <td>...</td>\n      <td>...</td>\n      <td>...</td>\n    </tr>\n    <tr>\n      <th>10684</th>\n      <td>2</td>\n      <td>1</td>\n      <td>0</td>\n      <td>1</td>\n      <td>offer3</td>\n      <td>1</td>\n    </tr>\n    <tr>\n      <th>10685</th>\n      <td>0</td>\n      <td>2</td>\n      <td>0</td>\n      <td>3</td>\n      <td>offer2</td>\n      <td>1</td>\n    </tr>\n    <tr>\n      <th>10686</th>\n      <td>1</td>\n      <td>1</td>\n      <td>1</td>\n      <td>6</td>\n      <td>offer1</td>\n      <td>1</td>\n    </tr>\n    <tr>\n      <th>10687</th>\n      <td>2</td>\n      <td>2</td>\n      <td>1</td>\n      <td>1</td>\n      <td>offer1</td>\n      <td>1</td>\n    </tr>\n    <tr>\n      <th>10688</th>\n      <td>0</td>\n      <td>1</td>\n      <td>0</td>\n      <td>1</td>\n      <td>offer4</td>\n      <td>1</td>\n    </tr>\n  </tbody>\n</table>\n<p>10689 rows × 6 columns</p>\n</div>"
     },
     "execution_count": 25,
     "metadata": {},
     "output_type": "execute_result"
    }
   ],
   "source": [
    "c1 = pd.get_dummies(c1) #dummies\n",
    "\n",
    "#create a hierarchy for the values\n",
    "mapper = {'basic': 0, 'extended': 1, 'premium': 2, 'high school or below': 0, 'bachelor': 1, 'college': 2, 'master': 3, 'doctor': 4, 'jan': 0, 'feb': 1, 'small': 0, 'medsize': 1, 'large': 2, 'corporate l3': 6, 'personal l3': 3, 'personal l2': 2, 'corporate l2': 5,'personal l1': 1, 'special l1': 7, 'corporate l1': 4, 'special l3': 9,\n",
    "'special l2': 8}\n",
    "#add new columns\n",
    "c2['coverage'] = c2['coverage'].replace(mapper)\n",
    "c2['education'] = c2['education'].replace(mapper)\n",
    "c2['month'] = c2['month'].replace(mapper)\n",
    "c2['policy'] = c2['policy'].replace(mapper)\n",
    "c2['renew_offer_type'] = c2['renew_offer_type'].replace(mapper)\n",
    "c2['vehicle_size'] = c2['vehicle_size'].replace(mapper)\n",
    "c2"
   ]
  },
  {
   "cell_type": "code",
   "execution_count": 26,
   "id": "34fdc3fd",
   "metadata": {
    "ExecuteTime": {
     "end_time": "2023-06-13T11:49:13.949032Z",
     "start_time": "2023-06-13T11:49:13.927434400Z"
    }
   },
   "outputs": [
    {
     "data": {
      "text/plain": "      region_central  region_east  region_north west  region_west region  \\\n7388           False        False               True               False   \n9559           False        False               True               False   \n3163           False        False              False                True   \n338            False        False               True               False   \n3501            True        False              False               False   \n...              ...          ...                ...                 ...   \n7839           False         True              False               False   \n3603           False        False               True               False   \n5959           False        False              False                True   \n5426           False        False              False                True   \n7608            True        False              False               False   \n\n      response_no  response_yes  gender_f  gender_m  marital_status_divorced  \\\n7388         True         False     False      True                    False   \n9559         True         False      True     False                    False   \n3163         True         False     False      True                    False   \n338          True         False      True     False                    False   \n3501         True         False      True     False                    False   \n...           ...           ...       ...       ...                      ...   \n7839         True         False     False      True                     True   \n3603         True         False      True     False                     True   \n5959         True         False      True     False                    False   \n5426         True         False      True     False                    False   \n7608         True         False      True     False                     True   \n\n      marital_status_married  ...  sales_channel_web  \\\n7388                    True  ...              False   \n9559                   False  ...              False   \n3163                    True  ...               True   \n338                    False  ...              False   \n3501                    True  ...              False   \n...                      ...  ...                ...   \n7839                   False  ...               True   \n3603                   False  ...              False   \n5959                    True  ...              False   \n5426                    True  ...              False   \n7608                   False  ...              False   \n\n      vehicle_class_four-door car  vehicle_class_luxury car  \\\n7388                        False                     False   \n9559                         True                     False   \n3163                        False                     False   \n338                         False                     False   \n3501                        False                     False   \n...                           ...                       ...   \n7839                        False                     False   \n3603                         True                     False   \n5959                         True                     False   \n5426                         True                     False   \n7608                         True                     False   \n\n      vehicle_class_luxury suv  vehicle_class_sports car  vehicle_class_suv  \\\n7388                     False                     False              False   \n9559                     False                     False              False   \n3163                      True                     False              False   \n338                      False                     False               True   \n3501                     False                     False              False   \n...                        ...                       ...                ...   \n7839                     False                     False               True   \n3603                     False                     False              False   \n5959                     False                     False              False   \n5426                     False                     False              False   \n7608                     False                     False              False   \n\n      vehicle_class_two-door car  policy_type_corporate auto  \\\n7388                        True                       False   \n9559                       False                       False   \n3163                       False                       False   \n338                        False                        True   \n3501                        True                        True   \n...                          ...                         ...   \n7839                       False                       False   \n3603                       False                        True   \n5959                       False                       False   \n5426                       False                       False   \n7608                       False                       False   \n\n      policy_type_personal auto  policy_type_special auto  \n7388                       True                     False  \n9559                       True                     False  \n3163                       True                     False  \n338                       False                     False  \n3501                      False                     False  \n...                         ...                       ...  \n7839                       True                     False  \n3603                      False                     False  \n5959                       True                     False  \n5426                       True                     False  \n7608                       True                     False  \n\n[7482 rows x 29 columns]",
      "text/html": "<div>\n<style scoped>\n    .dataframe tbody tr th:only-of-type {\n        vertical-align: middle;\n    }\n\n    .dataframe tbody tr th {\n        vertical-align: top;\n    }\n\n    .dataframe thead th {\n        text-align: right;\n    }\n</style>\n<table border=\"1\" class=\"dataframe\">\n  <thead>\n    <tr style=\"text-align: right;\">\n      <th></th>\n      <th>region_central</th>\n      <th>region_east</th>\n      <th>region_north west</th>\n      <th>region_west region</th>\n      <th>response_no</th>\n      <th>response_yes</th>\n      <th>gender_f</th>\n      <th>gender_m</th>\n      <th>marital_status_divorced</th>\n      <th>marital_status_married</th>\n      <th>...</th>\n      <th>sales_channel_web</th>\n      <th>vehicle_class_four-door car</th>\n      <th>vehicle_class_luxury car</th>\n      <th>vehicle_class_luxury suv</th>\n      <th>vehicle_class_sports car</th>\n      <th>vehicle_class_suv</th>\n      <th>vehicle_class_two-door car</th>\n      <th>policy_type_corporate auto</th>\n      <th>policy_type_personal auto</th>\n      <th>policy_type_special auto</th>\n    </tr>\n  </thead>\n  <tbody>\n    <tr>\n      <th>7388</th>\n      <td>False</td>\n      <td>False</td>\n      <td>True</td>\n      <td>False</td>\n      <td>True</td>\n      <td>False</td>\n      <td>False</td>\n      <td>True</td>\n      <td>False</td>\n      <td>True</td>\n      <td>...</td>\n      <td>False</td>\n      <td>False</td>\n      <td>False</td>\n      <td>False</td>\n      <td>False</td>\n      <td>False</td>\n      <td>True</td>\n      <td>False</td>\n      <td>True</td>\n      <td>False</td>\n    </tr>\n    <tr>\n      <th>9559</th>\n      <td>False</td>\n      <td>False</td>\n      <td>True</td>\n      <td>False</td>\n      <td>True</td>\n      <td>False</td>\n      <td>True</td>\n      <td>False</td>\n      <td>False</td>\n      <td>False</td>\n      <td>...</td>\n      <td>False</td>\n      <td>True</td>\n      <td>False</td>\n      <td>False</td>\n      <td>False</td>\n      <td>False</td>\n      <td>False</td>\n      <td>False</td>\n      <td>True</td>\n      <td>False</td>\n    </tr>\n    <tr>\n      <th>3163</th>\n      <td>False</td>\n      <td>False</td>\n      <td>False</td>\n      <td>True</td>\n      <td>True</td>\n      <td>False</td>\n      <td>False</td>\n      <td>True</td>\n      <td>False</td>\n      <td>True</td>\n      <td>...</td>\n      <td>True</td>\n      <td>False</td>\n      <td>False</td>\n      <td>True</td>\n      <td>False</td>\n      <td>False</td>\n      <td>False</td>\n      <td>False</td>\n      <td>True</td>\n      <td>False</td>\n    </tr>\n    <tr>\n      <th>338</th>\n      <td>False</td>\n      <td>False</td>\n      <td>True</td>\n      <td>False</td>\n      <td>True</td>\n      <td>False</td>\n      <td>True</td>\n      <td>False</td>\n      <td>False</td>\n      <td>False</td>\n      <td>...</td>\n      <td>False</td>\n      <td>False</td>\n      <td>False</td>\n      <td>False</td>\n      <td>False</td>\n      <td>True</td>\n      <td>False</td>\n      <td>True</td>\n      <td>False</td>\n      <td>False</td>\n    </tr>\n    <tr>\n      <th>3501</th>\n      <td>True</td>\n      <td>False</td>\n      <td>False</td>\n      <td>False</td>\n      <td>True</td>\n      <td>False</td>\n      <td>True</td>\n      <td>False</td>\n      <td>False</td>\n      <td>True</td>\n      <td>...</td>\n      <td>False</td>\n      <td>False</td>\n      <td>False</td>\n      <td>False</td>\n      <td>False</td>\n      <td>False</td>\n      <td>True</td>\n      <td>True</td>\n      <td>False</td>\n      <td>False</td>\n    </tr>\n    <tr>\n      <th>...</th>\n      <td>...</td>\n      <td>...</td>\n      <td>...</td>\n      <td>...</td>\n      <td>...</td>\n      <td>...</td>\n      <td>...</td>\n      <td>...</td>\n      <td>...</td>\n      <td>...</td>\n      <td>...</td>\n      <td>...</td>\n      <td>...</td>\n      <td>...</td>\n      <td>...</td>\n      <td>...</td>\n      <td>...</td>\n      <td>...</td>\n      <td>...</td>\n      <td>...</td>\n      <td>...</td>\n    </tr>\n    <tr>\n      <th>7839</th>\n      <td>False</td>\n      <td>True</td>\n      <td>False</td>\n      <td>False</td>\n      <td>True</td>\n      <td>False</td>\n      <td>False</td>\n      <td>True</td>\n      <td>True</td>\n      <td>False</td>\n      <td>...</td>\n      <td>True</td>\n      <td>False</td>\n      <td>False</td>\n      <td>False</td>\n      <td>False</td>\n      <td>True</td>\n      <td>False</td>\n      <td>False</td>\n      <td>True</td>\n      <td>False</td>\n    </tr>\n    <tr>\n      <th>3603</th>\n      <td>False</td>\n      <td>False</td>\n      <td>True</td>\n      <td>False</td>\n      <td>True</td>\n      <td>False</td>\n      <td>True</td>\n      <td>False</td>\n      <td>True</td>\n      <td>False</td>\n      <td>...</td>\n      <td>False</td>\n      <td>True</td>\n      <td>False</td>\n      <td>False</td>\n      <td>False</td>\n      <td>False</td>\n      <td>False</td>\n      <td>True</td>\n      <td>False</td>\n      <td>False</td>\n    </tr>\n    <tr>\n      <th>5959</th>\n      <td>False</td>\n      <td>False</td>\n      <td>False</td>\n      <td>True</td>\n      <td>True</td>\n      <td>False</td>\n      <td>True</td>\n      <td>False</td>\n      <td>False</td>\n      <td>True</td>\n      <td>...</td>\n      <td>False</td>\n      <td>True</td>\n      <td>False</td>\n      <td>False</td>\n      <td>False</td>\n      <td>False</td>\n      <td>False</td>\n      <td>False</td>\n      <td>True</td>\n      <td>False</td>\n    </tr>\n    <tr>\n      <th>5426</th>\n      <td>False</td>\n      <td>False</td>\n      <td>False</td>\n      <td>True</td>\n      <td>True</td>\n      <td>False</td>\n      <td>True</td>\n      <td>False</td>\n      <td>False</td>\n      <td>True</td>\n      <td>...</td>\n      <td>False</td>\n      <td>True</td>\n      <td>False</td>\n      <td>False</td>\n      <td>False</td>\n      <td>False</td>\n      <td>False</td>\n      <td>False</td>\n      <td>True</td>\n      <td>False</td>\n    </tr>\n    <tr>\n      <th>7608</th>\n      <td>True</td>\n      <td>False</td>\n      <td>False</td>\n      <td>False</td>\n      <td>True</td>\n      <td>False</td>\n      <td>True</td>\n      <td>False</td>\n      <td>True</td>\n      <td>False</td>\n      <td>...</td>\n      <td>False</td>\n      <td>True</td>\n      <td>False</td>\n      <td>False</td>\n      <td>False</td>\n      <td>False</td>\n      <td>False</td>\n      <td>False</td>\n      <td>True</td>\n      <td>False</td>\n    </tr>\n  </tbody>\n</table>\n<p>7482 rows × 29 columns</p>\n</div>"
     },
     "execution_count": 26,
     "metadata": {},
     "output_type": "execute_result"
    }
   ],
   "source": [
    "#Rerun the model after adding the hot encoded categorical variables\n",
    "TT_RATIO = 0.3\n",
    "RAND_STATE = 40\n",
    "z_train, z_test, = train_test_split(c1, test_size=TT_RATIO, random_state=RAND_STATE)\n",
    "z_train = pd.DataFrame(z_train)\n",
    "z_test = pd.DataFrame(z_test)\n",
    "z_train"
   ]
  }
 ],
 "metadata": {
  "kernelspec": {
   "display_name": "Python 3 (ipykernel)",
   "language": "python",
   "name": "python3"
  },
  "language_info": {
   "codemirror_mode": {
    "name": "ipython",
    "version": 3
   },
   "file_extension": ".py",
   "mimetype": "text/x-python",
   "name": "python",
   "nbconvert_exporter": "python",
   "pygments_lexer": "ipython3",
   "version": "3.9.13"
  }
 },
 "nbformat": 4,
 "nbformat_minor": 5
}
