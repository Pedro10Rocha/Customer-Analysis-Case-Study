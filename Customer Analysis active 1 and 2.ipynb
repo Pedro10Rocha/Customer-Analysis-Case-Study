{
 "cells": [
  {
   "cell_type": "code",
   "execution_count": 1,
   "id": "d815416e",
   "metadata": {
    "ExecuteTime": {
     "end_time": "2023-06-12T07:09:45.002499200Z",
     "start_time": "2023-06-12T07:09:42.419542Z"
    }
   },
   "outputs": [],
   "source": [
    "import numpy as np\n",
    "import pandas as pd"
   ]
  },
  {
   "cell_type": "code",
   "execution_count": 2,
   "id": "bd052e47",
   "metadata": {
    "ExecuteTime": {
     "end_time": "2023-06-12T07:09:45.104278Z",
     "start_time": "2023-06-12T07:09:45.002499200Z"
    }
   },
   "outputs": [
    {
     "data": {
      "text/plain": "Index(['Customer', 'State', 'Customer Lifetime Value', 'Education', 'Gender',\n       'Income', 'Monthly Premium Auto', 'Number of Open Complaints',\n       'Policy Type', 'Total Claim Amount', 'Vehicle Class'],\n      dtype='object')"
     },
     "execution_count": 2,
     "metadata": {},
     "output_type": "execute_result"
    }
   ],
   "source": [
    "#Reading the files with Pandas\n",
    "\n",
    "file1 = pd.read_csv(r'C:\\Users\\pedro\\Documents\\GitHub\\IronHackLabs\\Week2\\file1.csv')\n",
    "file2 = pd.read_csv(r'C:\\Users\\pedro\\Documents\\GitHub\\IronHackLabs\\Week2\\file2.csv')\n",
    "file3 = pd.read_csv(r'C:\\Users\\pedro\\Documents\\GitHub\\IronHackLabs\\Week2\\file3.csv')\n",
    "file3.columns"
   ]
  },
  {
   "cell_type": "code",
   "execution_count": 3,
   "id": "140894d3",
   "metadata": {
    "ExecuteTime": {
     "end_time": "2023-06-12T07:09:45.166773600Z",
     "start_time": "2023-06-12T07:09:45.104278Z"
    }
   },
   "outputs": [],
   "source": [
    "#Adjusting the column names to be equal to all.\n",
    "\n",
    "file1.rename(columns = {'GENDER':'Gender'}, inplace = True)"
   ]
  },
  {
   "cell_type": "code",
   "execution_count": 4,
   "id": "5e788a33",
   "metadata": {
    "ExecuteTime": {
     "end_time": "2023-06-12T07:09:52.482507500Z",
     "start_time": "2023-06-12T07:09:52.466561Z"
    }
   },
   "outputs": [],
   "source": [
    "#Standardizing the column names\n",
    "\n",
    "file2.rename(columns = {'GENDER':'Gender'}, inplace = True)\n",
    "file1.rename(columns = {'ST': 'State'}, inplace = True)\n",
    "file2.rename(columns = {'ST': 'State'}, inplace = True)"
   ]
  },
  {
   "cell_type": "code",
   "execution_count": 5,
   "id": "7bf8fe6c",
   "metadata": {
    "ExecuteTime": {
     "end_time": "2023-06-12T07:09:54.777955100Z",
     "start_time": "2023-06-12T07:09:54.756573800Z"
    }
   },
   "outputs": [],
   "source": [
    "#Bringing all the files together.\n",
    "\n",
    "ready_file = pd.concat([file1,file2,file3], axis=0)"
   ]
  },
  {
   "cell_type": "code",
   "execution_count": 6,
   "id": "dcf581ec",
   "metadata": {
    "ExecuteTime": {
     "end_time": "2023-06-12T07:09:56.993144200Z",
     "start_time": "2023-06-12T07:09:56.973423300Z"
    }
   },
   "outputs": [
    {
     "data": {
      "text/plain": "      Customer       State Gender             Education  \\\n0      RB50392  Washington    NaN                Master   \n1      QZ44356     Arizona      F              Bachelor   \n2      AI49188      Nevada      F              Bachelor   \n3      WW63253  California      M              Bachelor   \n4      GA49547  Washington      M  High School or Below   \n...        ...         ...    ...                   ...   \n12069  LA72316  California      M              Bachelor   \n12070  PK87824  California      F               College   \n12071  TD14365  California      M              Bachelor   \n12072  UP19263  California      M               College   \n12073  Y167826  California      M               College   \n\n      Customer Lifetime Value   Income  Monthly Premium Auto  \\\n0                         NaN      0.0                1000.0   \n1                  697953.59%      0.0                  94.0   \n2                 1288743.17%  48767.0                 108.0   \n3                  764586.18%      0.0                 106.0   \n4                  536307.65%  36357.0                  68.0   \n...                       ...      ...                   ...   \n12069             23405.98798  71941.0                  73.0   \n12070             3096.511217  21604.0                  79.0   \n12071             8163.890428      0.0                  85.0   \n12072             7524.442436  21941.0                  96.0   \n12073             2611.836866      0.0                  77.0   \n\n      Number of Open Complaints     Policy Type  Vehicle Class  \\\n0                        1/0/00   Personal Auto  Four-Door Car   \n1                        1/0/00   Personal Auto  Four-Door Car   \n2                        1/0/00   Personal Auto   Two-Door Car   \n3                        1/0/00  Corporate Auto            SUV   \n4                        1/0/00   Personal Auto  Four-Door Car   \n...                         ...             ...            ...   \n12069                         0   Personal Auto  Four-Door Car   \n12070                         0  Corporate Auto  Four-Door Car   \n12071                         3  Corporate Auto  Four-Door Car   \n12072                         0   Personal Auto  Four-Door Car   \n12073                         0  Corporate Auto   Two-Door Car   \n\n       Total Claim Amount  \n0                2.704934  \n1             1131.464935  \n2              566.472247  \n3              529.881344  \n4               17.269323  \n...                   ...  \n12069          198.234764  \n12070          379.200000  \n12071          790.784983  \n12072          691.200000  \n12073          369.600000  \n\n[12074 rows x 11 columns]",
      "text/html": "<div>\n<style scoped>\n    .dataframe tbody tr th:only-of-type {\n        vertical-align: middle;\n    }\n\n    .dataframe tbody tr th {\n        vertical-align: top;\n    }\n\n    .dataframe thead th {\n        text-align: right;\n    }\n</style>\n<table border=\"1\" class=\"dataframe\">\n  <thead>\n    <tr style=\"text-align: right;\">\n      <th></th>\n      <th>Customer</th>\n      <th>State</th>\n      <th>Gender</th>\n      <th>Education</th>\n      <th>Customer Lifetime Value</th>\n      <th>Income</th>\n      <th>Monthly Premium Auto</th>\n      <th>Number of Open Complaints</th>\n      <th>Policy Type</th>\n      <th>Vehicle Class</th>\n      <th>Total Claim Amount</th>\n    </tr>\n  </thead>\n  <tbody>\n    <tr>\n      <th>0</th>\n      <td>RB50392</td>\n      <td>Washington</td>\n      <td>NaN</td>\n      <td>Master</td>\n      <td>NaN</td>\n      <td>0.0</td>\n      <td>1000.0</td>\n      <td>1/0/00</td>\n      <td>Personal Auto</td>\n      <td>Four-Door Car</td>\n      <td>2.704934</td>\n    </tr>\n    <tr>\n      <th>1</th>\n      <td>QZ44356</td>\n      <td>Arizona</td>\n      <td>F</td>\n      <td>Bachelor</td>\n      <td>697953.59%</td>\n      <td>0.0</td>\n      <td>94.0</td>\n      <td>1/0/00</td>\n      <td>Personal Auto</td>\n      <td>Four-Door Car</td>\n      <td>1131.464935</td>\n    </tr>\n    <tr>\n      <th>2</th>\n      <td>AI49188</td>\n      <td>Nevada</td>\n      <td>F</td>\n      <td>Bachelor</td>\n      <td>1288743.17%</td>\n      <td>48767.0</td>\n      <td>108.0</td>\n      <td>1/0/00</td>\n      <td>Personal Auto</td>\n      <td>Two-Door Car</td>\n      <td>566.472247</td>\n    </tr>\n    <tr>\n      <th>3</th>\n      <td>WW63253</td>\n      <td>California</td>\n      <td>M</td>\n      <td>Bachelor</td>\n      <td>764586.18%</td>\n      <td>0.0</td>\n      <td>106.0</td>\n      <td>1/0/00</td>\n      <td>Corporate Auto</td>\n      <td>SUV</td>\n      <td>529.881344</td>\n    </tr>\n    <tr>\n      <th>4</th>\n      <td>GA49547</td>\n      <td>Washington</td>\n      <td>M</td>\n      <td>High School or Below</td>\n      <td>536307.65%</td>\n      <td>36357.0</td>\n      <td>68.0</td>\n      <td>1/0/00</td>\n      <td>Personal Auto</td>\n      <td>Four-Door Car</td>\n      <td>17.269323</td>\n    </tr>\n    <tr>\n      <th>...</th>\n      <td>...</td>\n      <td>...</td>\n      <td>...</td>\n      <td>...</td>\n      <td>...</td>\n      <td>...</td>\n      <td>...</td>\n      <td>...</td>\n      <td>...</td>\n      <td>...</td>\n      <td>...</td>\n    </tr>\n    <tr>\n      <th>12069</th>\n      <td>LA72316</td>\n      <td>California</td>\n      <td>M</td>\n      <td>Bachelor</td>\n      <td>23405.98798</td>\n      <td>71941.0</td>\n      <td>73.0</td>\n      <td>0</td>\n      <td>Personal Auto</td>\n      <td>Four-Door Car</td>\n      <td>198.234764</td>\n    </tr>\n    <tr>\n      <th>12070</th>\n      <td>PK87824</td>\n      <td>California</td>\n      <td>F</td>\n      <td>College</td>\n      <td>3096.511217</td>\n      <td>21604.0</td>\n      <td>79.0</td>\n      <td>0</td>\n      <td>Corporate Auto</td>\n      <td>Four-Door Car</td>\n      <td>379.200000</td>\n    </tr>\n    <tr>\n      <th>12071</th>\n      <td>TD14365</td>\n      <td>California</td>\n      <td>M</td>\n      <td>Bachelor</td>\n      <td>8163.890428</td>\n      <td>0.0</td>\n      <td>85.0</td>\n      <td>3</td>\n      <td>Corporate Auto</td>\n      <td>Four-Door Car</td>\n      <td>790.784983</td>\n    </tr>\n    <tr>\n      <th>12072</th>\n      <td>UP19263</td>\n      <td>California</td>\n      <td>M</td>\n      <td>College</td>\n      <td>7524.442436</td>\n      <td>21941.0</td>\n      <td>96.0</td>\n      <td>0</td>\n      <td>Personal Auto</td>\n      <td>Four-Door Car</td>\n      <td>691.200000</td>\n    </tr>\n    <tr>\n      <th>12073</th>\n      <td>Y167826</td>\n      <td>California</td>\n      <td>M</td>\n      <td>College</td>\n      <td>2611.836866</td>\n      <td>0.0</td>\n      <td>77.0</td>\n      <td>0</td>\n      <td>Corporate Auto</td>\n      <td>Two-Door Car</td>\n      <td>369.600000</td>\n    </tr>\n  </tbody>\n</table>\n<p>12074 rows × 11 columns</p>\n</div>"
     },
     "execution_count": 6,
     "metadata": {},
     "output_type": "execute_result"
    }
   ],
   "source": [
    "#matchin the index with the rows\n",
    "\n",
    "ready_file.reset_index(drop=True, inplace=True)\n",
    "ready_file"
   ]
  },
  {
   "cell_type": "code",
   "execution_count": 7,
   "id": "0f6d8751",
   "metadata": {
    "scrolled": true,
    "ExecuteTime": {
     "end_time": "2023-06-12T07:10:17.651744700Z",
     "start_time": "2023-06-12T07:10:17.620204300Z"
    }
   },
   "outputs": [],
   "source": [
    "#eliminating the duplicated values\n",
    "\n",
    "ready_file = ready_file.drop_duplicates()"
   ]
  },
  {
   "cell_type": "code",
   "execution_count": 8,
   "outputs": [],
   "source": [
    "#Dropping the column Customer, as it is only a unique identifier for each row of data\n",
    "\n",
    "ready_file = ready_file.drop('Customer', axis=1)"
   ],
   "metadata": {
    "collapsed": false,
    "ExecuteTime": {
     "end_time": "2023-06-12T07:10:23.167204Z",
     "start_time": "2023-06-12T07:10:23.135649Z"
    }
   }
  },
  {
   "cell_type": "code",
   "execution_count": 9,
   "outputs": [
    {
     "name": "stdout",
     "output_type": "stream",
     "text": [
      "<class 'pandas.core.frame.DataFrame'>\n",
      "Index: 9135 entries, 0 to 12073\n",
      "Data columns (total 10 columns):\n",
      " #   Column                     Non-Null Count  Dtype  \n",
      "---  ------                     --------------  -----  \n",
      " 0   State                      9134 non-null   object \n",
      " 1   Gender                     9012 non-null   object \n",
      " 2   Education                  9134 non-null   object \n",
      " 3   Customer Lifetime Value    9127 non-null   object \n",
      " 4   Income                     9134 non-null   float64\n",
      " 5   Monthly Premium Auto       9134 non-null   float64\n",
      " 6   Number of Open Complaints  9134 non-null   object \n",
      " 7   Policy Type                9134 non-null   object \n",
      " 8   Vehicle Class              9134 non-null   object \n",
      " 9   Total Claim Amount         9134 non-null   float64\n",
      "dtypes: float64(3), object(7)\n",
      "memory usage: 785.0+ KB\n"
     ]
    }
   ],
   "source": [
    "#Checking the data types to correct them.\n",
    "\n",
    "ready_file.info()"
   ],
   "metadata": {
    "collapsed": false,
    "ExecuteTime": {
     "end_time": "2023-06-12T07:10:25.822996500Z",
     "start_time": "2023-06-12T07:10:25.791398500Z"
    }
   }
  },
  {
   "cell_type": "code",
   "execution_count": 10,
   "outputs": [
    {
     "data": {
      "text/plain": "            State Gender             Education Customer Lifetime Value  \\\n0      Washington    NaN                Master                     NaN   \n1         Arizona      F              Bachelor              697953.59%   \n2          Nevada      F              Bachelor             1288743.17%   \n3      California      M              Bachelor              764586.18%   \n4      Washington      M  High School or Below              536307.65%   \n...           ...    ...                   ...                     ...   \n12069  California      M              Bachelor             23405.98798   \n12070  California      F               College             3096.511217   \n12071  California      M              Bachelor             8163.890428   \n12072  California      M               College             7524.442436   \n12073  California      M               College             2611.836866   \n\n        Income  Monthly Premium Auto Number of Open Complaints  \\\n0          0.0                1000.0                    1/0/00   \n1          0.0                  94.0                    1/0/00   \n2      48767.0                 108.0                    1/0/00   \n3          0.0                 106.0                    1/0/00   \n4      36357.0                  68.0                    1/0/00   \n...        ...                   ...                       ...   \n12069  71941.0                  73.0                         0   \n12070  21604.0                  79.0                         0   \n12071      0.0                  85.0                         3   \n12072  21941.0                  96.0                         0   \n12073      0.0                  77.0                         0   \n\n          Policy Type  Vehicle Class  Total Claim Amount  \n0       Personal Auto  Four-Door Car            2.704934  \n1       Personal Auto  Four-Door Car         1131.464935  \n2       Personal Auto   Two-Door Car          566.472247  \n3      Corporate Auto            SUV          529.881344  \n4       Personal Auto  Four-Door Car           17.269323  \n...               ...            ...                 ...  \n12069   Personal Auto  Four-Door Car          198.234764  \n12070  Corporate Auto  Four-Door Car          379.200000  \n12071  Corporate Auto  Four-Door Car          790.784983  \n12072   Personal Auto  Four-Door Car          691.200000  \n12073  Corporate Auto   Two-Door Car          369.600000  \n\n[9135 rows x 10 columns]",
      "text/html": "<div>\n<style scoped>\n    .dataframe tbody tr th:only-of-type {\n        vertical-align: middle;\n    }\n\n    .dataframe tbody tr th {\n        vertical-align: top;\n    }\n\n    .dataframe thead th {\n        text-align: right;\n    }\n</style>\n<table border=\"1\" class=\"dataframe\">\n  <thead>\n    <tr style=\"text-align: right;\">\n      <th></th>\n      <th>State</th>\n      <th>Gender</th>\n      <th>Education</th>\n      <th>Customer Lifetime Value</th>\n      <th>Income</th>\n      <th>Monthly Premium Auto</th>\n      <th>Number of Open Complaints</th>\n      <th>Policy Type</th>\n      <th>Vehicle Class</th>\n      <th>Total Claim Amount</th>\n    </tr>\n  </thead>\n  <tbody>\n    <tr>\n      <th>0</th>\n      <td>Washington</td>\n      <td>NaN</td>\n      <td>Master</td>\n      <td>NaN</td>\n      <td>0.0</td>\n      <td>1000.0</td>\n      <td>1/0/00</td>\n      <td>Personal Auto</td>\n      <td>Four-Door Car</td>\n      <td>2.704934</td>\n    </tr>\n    <tr>\n      <th>1</th>\n      <td>Arizona</td>\n      <td>F</td>\n      <td>Bachelor</td>\n      <td>697953.59%</td>\n      <td>0.0</td>\n      <td>94.0</td>\n      <td>1/0/00</td>\n      <td>Personal Auto</td>\n      <td>Four-Door Car</td>\n      <td>1131.464935</td>\n    </tr>\n    <tr>\n      <th>2</th>\n      <td>Nevada</td>\n      <td>F</td>\n      <td>Bachelor</td>\n      <td>1288743.17%</td>\n      <td>48767.0</td>\n      <td>108.0</td>\n      <td>1/0/00</td>\n      <td>Personal Auto</td>\n      <td>Two-Door Car</td>\n      <td>566.472247</td>\n    </tr>\n    <tr>\n      <th>3</th>\n      <td>California</td>\n      <td>M</td>\n      <td>Bachelor</td>\n      <td>764586.18%</td>\n      <td>0.0</td>\n      <td>106.0</td>\n      <td>1/0/00</td>\n      <td>Corporate Auto</td>\n      <td>SUV</td>\n      <td>529.881344</td>\n    </tr>\n    <tr>\n      <th>4</th>\n      <td>Washington</td>\n      <td>M</td>\n      <td>High School or Below</td>\n      <td>536307.65%</td>\n      <td>36357.0</td>\n      <td>68.0</td>\n      <td>1/0/00</td>\n      <td>Personal Auto</td>\n      <td>Four-Door Car</td>\n      <td>17.269323</td>\n    </tr>\n    <tr>\n      <th>...</th>\n      <td>...</td>\n      <td>...</td>\n      <td>...</td>\n      <td>...</td>\n      <td>...</td>\n      <td>...</td>\n      <td>...</td>\n      <td>...</td>\n      <td>...</td>\n      <td>...</td>\n    </tr>\n    <tr>\n      <th>12069</th>\n      <td>California</td>\n      <td>M</td>\n      <td>Bachelor</td>\n      <td>23405.98798</td>\n      <td>71941.0</td>\n      <td>73.0</td>\n      <td>0</td>\n      <td>Personal Auto</td>\n      <td>Four-Door Car</td>\n      <td>198.234764</td>\n    </tr>\n    <tr>\n      <th>12070</th>\n      <td>California</td>\n      <td>F</td>\n      <td>College</td>\n      <td>3096.511217</td>\n      <td>21604.0</td>\n      <td>79.0</td>\n      <td>0</td>\n      <td>Corporate Auto</td>\n      <td>Four-Door Car</td>\n      <td>379.200000</td>\n    </tr>\n    <tr>\n      <th>12071</th>\n      <td>California</td>\n      <td>M</td>\n      <td>Bachelor</td>\n      <td>8163.890428</td>\n      <td>0.0</td>\n      <td>85.0</td>\n      <td>3</td>\n      <td>Corporate Auto</td>\n      <td>Four-Door Car</td>\n      <td>790.784983</td>\n    </tr>\n    <tr>\n      <th>12072</th>\n      <td>California</td>\n      <td>M</td>\n      <td>College</td>\n      <td>7524.442436</td>\n      <td>21941.0</td>\n      <td>96.0</td>\n      <td>0</td>\n      <td>Personal Auto</td>\n      <td>Four-Door Car</td>\n      <td>691.200000</td>\n    </tr>\n    <tr>\n      <th>12073</th>\n      <td>California</td>\n      <td>M</td>\n      <td>College</td>\n      <td>2611.836866</td>\n      <td>0.0</td>\n      <td>77.0</td>\n      <td>0</td>\n      <td>Corporate Auto</td>\n      <td>Two-Door Car</td>\n      <td>369.600000</td>\n    </tr>\n  </tbody>\n</table>\n<p>9135 rows × 10 columns</p>\n</div>"
     },
     "execution_count": 10,
     "metadata": {},
     "output_type": "execute_result"
    }
   ],
   "source": [
    "ready_file"
   ],
   "metadata": {
    "collapsed": false,
    "ExecuteTime": {
     "end_time": "2023-06-12T07:11:48.659221200Z",
     "start_time": "2023-06-12T07:11:48.641722200Z"
    }
   }
  },
  {
   "cell_type": "code",
   "execution_count": 11,
   "id": "f49d80de",
   "metadata": {
    "ExecuteTime": {
     "end_time": "2023-06-12T07:11:56.942194200Z",
     "start_time": "2023-06-12T07:11:56.926758900Z"
    }
   },
   "outputs": [],
   "source": [
    "#In order to transform Customer Lifetime Value in to float I have to take out the % sign.\n",
    "\n",
    "ready_file['Customer Lifetime Value'] = ready_file['Customer Lifetime Value'].astype(str).str.strip('%')\n",
    "ready_file['Customer Lifetime Value'] = ready_file['Customer Lifetime Value'].astype(float)\n"
   ]
  },
  {
   "cell_type": "code",
   "execution_count": 40,
   "id": "157b168a",
   "metadata": {
    "ExecuteTime": {
     "end_time": "2023-06-12T07:51:30.886741300Z",
     "start_time": "2023-06-12T07:51:30.839139300Z"
    }
   },
   "outputs": [
    {
     "data": {
      "text/plain": "            State Gender             Education  Customer Lifetime Value  \\\n0      Washington    NaN                Master                      NaN   \n1         Arizona      F              Bachelor             6.979536e+05   \n2          Nevada      F              Bachelor             1.288743e+06   \n3      California      M              Bachelor             7.645862e+05   \n4      Washington      M  High School or Below             5.363077e+05   \n...           ...    ...                   ...                      ...   \n12069  California      M              Bachelor             2.340599e+04   \n12070  California      F               College             3.096511e+03   \n12071  California      M              Bachelor             8.163890e+03   \n12072  California      M               College             7.524442e+03   \n12073  California      M               College             2.611837e+03   \n\n        Income  Monthly Premium Auto  Number of Open Complaints  \\\n0          0.0                1000.0                          0   \n1          0.0                  94.0                          0   \n2      48767.0                 108.0                          0   \n3          0.0                 106.0                          0   \n4      36357.0                  68.0                          0   \n...        ...                   ...                        ...   \n12069  71941.0                  73.0                          0   \n12070  21604.0                  79.0                          0   \n12071      0.0                  85.0                          3   \n12072  21941.0                  96.0                          0   \n12073      0.0                  77.0                          0   \n\n          Policy Type  Vehicle Class  Total Claim Amount  \n0       Personal Auto  Four-Door Car            2.704934  \n1       Personal Auto  Four-Door Car         1131.464935  \n2       Personal Auto   Two-Door Car          566.472247  \n3      Corporate Auto            SUV          529.881344  \n4       Personal Auto  Four-Door Car           17.269323  \n...               ...            ...                 ...  \n12069   Personal Auto  Four-Door Car          198.234764  \n12070  Corporate Auto  Four-Door Car          379.200000  \n12071  Corporate Auto  Four-Door Car          790.784983  \n12072   Personal Auto  Four-Door Car          691.200000  \n12073  Corporate Auto   Two-Door Car          369.600000  \n\n[9135 rows x 10 columns]",
      "text/html": "<div>\n<style scoped>\n    .dataframe tbody tr th:only-of-type {\n        vertical-align: middle;\n    }\n\n    .dataframe tbody tr th {\n        vertical-align: top;\n    }\n\n    .dataframe thead th {\n        text-align: right;\n    }\n</style>\n<table border=\"1\" class=\"dataframe\">\n  <thead>\n    <tr style=\"text-align: right;\">\n      <th></th>\n      <th>State</th>\n      <th>Gender</th>\n      <th>Education</th>\n      <th>Customer Lifetime Value</th>\n      <th>Income</th>\n      <th>Monthly Premium Auto</th>\n      <th>Number of Open Complaints</th>\n      <th>Policy Type</th>\n      <th>Vehicle Class</th>\n      <th>Total Claim Amount</th>\n    </tr>\n  </thead>\n  <tbody>\n    <tr>\n      <th>0</th>\n      <td>Washington</td>\n      <td>NaN</td>\n      <td>Master</td>\n      <td>NaN</td>\n      <td>0.0</td>\n      <td>1000.0</td>\n      <td>0</td>\n      <td>Personal Auto</td>\n      <td>Four-Door Car</td>\n      <td>2.704934</td>\n    </tr>\n    <tr>\n      <th>1</th>\n      <td>Arizona</td>\n      <td>F</td>\n      <td>Bachelor</td>\n      <td>6.979536e+05</td>\n      <td>0.0</td>\n      <td>94.0</td>\n      <td>0</td>\n      <td>Personal Auto</td>\n      <td>Four-Door Car</td>\n      <td>1131.464935</td>\n    </tr>\n    <tr>\n      <th>2</th>\n      <td>Nevada</td>\n      <td>F</td>\n      <td>Bachelor</td>\n      <td>1.288743e+06</td>\n      <td>48767.0</td>\n      <td>108.0</td>\n      <td>0</td>\n      <td>Personal Auto</td>\n      <td>Two-Door Car</td>\n      <td>566.472247</td>\n    </tr>\n    <tr>\n      <th>3</th>\n      <td>California</td>\n      <td>M</td>\n      <td>Bachelor</td>\n      <td>7.645862e+05</td>\n      <td>0.0</td>\n      <td>106.0</td>\n      <td>0</td>\n      <td>Corporate Auto</td>\n      <td>SUV</td>\n      <td>529.881344</td>\n    </tr>\n    <tr>\n      <th>4</th>\n      <td>Washington</td>\n      <td>M</td>\n      <td>High School or Below</td>\n      <td>5.363077e+05</td>\n      <td>36357.0</td>\n      <td>68.0</td>\n      <td>0</td>\n      <td>Personal Auto</td>\n      <td>Four-Door Car</td>\n      <td>17.269323</td>\n    </tr>\n    <tr>\n      <th>...</th>\n      <td>...</td>\n      <td>...</td>\n      <td>...</td>\n      <td>...</td>\n      <td>...</td>\n      <td>...</td>\n      <td>...</td>\n      <td>...</td>\n      <td>...</td>\n      <td>...</td>\n    </tr>\n    <tr>\n      <th>12069</th>\n      <td>California</td>\n      <td>M</td>\n      <td>Bachelor</td>\n      <td>2.340599e+04</td>\n      <td>71941.0</td>\n      <td>73.0</td>\n      <td>0</td>\n      <td>Personal Auto</td>\n      <td>Four-Door Car</td>\n      <td>198.234764</td>\n    </tr>\n    <tr>\n      <th>12070</th>\n      <td>California</td>\n      <td>F</td>\n      <td>College</td>\n      <td>3.096511e+03</td>\n      <td>21604.0</td>\n      <td>79.0</td>\n      <td>0</td>\n      <td>Corporate Auto</td>\n      <td>Four-Door Car</td>\n      <td>379.200000</td>\n    </tr>\n    <tr>\n      <th>12071</th>\n      <td>California</td>\n      <td>M</td>\n      <td>Bachelor</td>\n      <td>8.163890e+03</td>\n      <td>0.0</td>\n      <td>85.0</td>\n      <td>3</td>\n      <td>Corporate Auto</td>\n      <td>Four-Door Car</td>\n      <td>790.784983</td>\n    </tr>\n    <tr>\n      <th>12072</th>\n      <td>California</td>\n      <td>M</td>\n      <td>College</td>\n      <td>7.524442e+03</td>\n      <td>21941.0</td>\n      <td>96.0</td>\n      <td>0</td>\n      <td>Personal Auto</td>\n      <td>Four-Door Car</td>\n      <td>691.200000</td>\n    </tr>\n    <tr>\n      <th>12073</th>\n      <td>California</td>\n      <td>M</td>\n      <td>College</td>\n      <td>2.611837e+03</td>\n      <td>0.0</td>\n      <td>77.0</td>\n      <td>0</td>\n      <td>Corporate Auto</td>\n      <td>Two-Door Car</td>\n      <td>369.600000</td>\n    </tr>\n  </tbody>\n</table>\n<p>9135 rows × 10 columns</p>\n</div>"
     },
     "execution_count": 40,
     "metadata": {},
     "output_type": "execute_result"
    }
   ],
   "source": [
    "#I'm adjusting the number in 'Number of Open Complaints'\n",
    "\n",
    "ready_file['Number of Open Complaints'] = ready_file['Number of Open Complaints'].astype(str).str.replace('(.*)/0/(.*)','0', regex=True)\n",
    "ready_file['Number of Open Complaints'] = ready_file['Number of Open Complaints'].astype(str).str.replace('(.*)/2/(.*)','2', regex=True)\n",
    "ready_file['Number of Open Complaints'] = ready_file['Number of Open Complaints'].astype(str).str.replace('(.*)/1/(.*)','1', regex=True)\n",
    "ready_file['Number of Open Complaints'] = ready_file['Number of Open Complaints'].astype(str).str.replace('(.*)/3/(.*)','3', regex=True)\n",
    "ready_file['Number of Open Complaints'] = ready_file['Number of Open Complaints'].astype(str).str.replace('(.*)/5/(.*)','5', regex=True)\n",
    "ready_file['Number of Open Complaints'] = ready_file['Number of Open Complaints'].astype(str).str.replace('(.*)/4/(.*)','4', regex=True)\n",
    "ready_file['Number of Open Complaints'] = ready_file['Number of Open Complaints'].astype('float')\n",
    "ready_file['Number of Open Complaints'] = ready_file['Number of Open Complaints'].fillna(0)\n",
    "ready_file['Number of Open Complaints'] = ready_file['Number of Open Complaints'].astype('int')\n",
    "ready_file"
   ]
  },
  {
   "cell_type": "code",
   "execution_count": 41,
   "id": "fa60fd0d",
   "metadata": {
    "ExecuteTime": {
     "end_time": "2023-06-12T07:54:17.264384100Z",
     "start_time": "2023-06-12T07:54:17.232205Z"
    }
   },
   "outputs": [
    {
     "data": {
      "text/plain": "array(['Washington', 'Arizona', 'Nevada', 'California', 'Oregon', 'Cali',\n       'AZ', 'WA', nan], dtype=object)"
     },
     "execution_count": 41,
     "metadata": {},
     "output_type": "execute_result"
    }
   ],
   "source": [
    "#Filtering data and Correcting typos – Filter the data in state and gender column to standardize the texts in those columns\n",
    "ready_file['State'].unique()"
   ]
  },
  {
   "cell_type": "code",
   "execution_count": 42,
   "id": "a8e8edf0",
   "metadata": {
    "ExecuteTime": {
     "end_time": "2023-06-12T07:54:37.021420500Z",
     "start_time": "2023-06-12T07:54:36.998686500Z"
    }
   },
   "outputs": [
    {
     "data": {
      "text/plain": "array(['Washington', 'Arizona', 'Nevada', 'California', 'Oregon', nan],\n      dtype=object)"
     },
     "execution_count": 42,
     "metadata": {},
     "output_type": "execute_result"
    }
   ],
   "source": [
    "ready_file['State'].replace(['Cali','AZ','WA'], ['California', 'Arizona', 'Washington'], inplace=True)\n",
    "ready_file['State'].unique()"
   ]
  },
  {
   "cell_type": "code",
   "execution_count": 43,
   "id": "cbd78862",
   "metadata": {
    "ExecuteTime": {
     "end_time": "2023-06-12T07:54:59.798677500Z",
     "start_time": "2023-06-12T07:54:59.765595600Z"
    }
   },
   "outputs": [
    {
     "data": {
      "text/plain": "array([nan, 'F', 'M', 'Femal', 'Male', 'female'], dtype=object)"
     },
     "execution_count": 43,
     "metadata": {},
     "output_type": "execute_result"
    }
   ],
   "source": [
    "ready_file['Gender'].unique()"
   ]
  },
  {
   "cell_type": "code",
   "execution_count": 45,
   "id": "5e318f37",
   "metadata": {
    "ExecuteTime": {
     "end_time": "2023-06-12T07:55:09.647981800Z",
     "start_time": "2023-06-12T07:55:09.640753700Z"
    }
   },
   "outputs": [],
   "source": [
    "ready_file['Gender'].replace(['F','M','Femal','female'], ['Female', 'Male', 'Female','Female'], inplace=True)"
   ]
  },
  {
   "cell_type": "code",
   "execution_count": 46,
   "id": "aa96b6a9",
   "metadata": {
    "ExecuteTime": {
     "end_time": "2023-06-12T07:55:11.063612600Z",
     "start_time": "2023-06-12T07:55:11.031227400Z"
    }
   },
   "outputs": [
    {
     "data": {
      "text/plain": "array([nan, 'Female', 'Male'], dtype=object)"
     },
     "execution_count": 46,
     "metadata": {},
     "output_type": "execute_result"
    }
   ],
   "source": [
    "ready_file['Gender'].unique()"
   ]
  },
  {
   "cell_type": "code",
   "execution_count": 54,
   "id": "5fcadc45",
   "metadata": {
    "ExecuteTime": {
     "end_time": "2023-06-12T08:17:02.822711700Z",
     "start_time": "2023-06-12T08:17:02.816697500Z"
    }
   },
   "outputs": [],
   "source": [
    "#Replace missing values with means of the columns\n",
    "ready_file['Customer Lifetime Value'] = ready_file['Customer Lifetime Value'].fillna(ready_file['Customer Lifetime Value'].mean())\n",
    "#convert to integer\n",
    "ready_file['Customer Lifetime Value'] = ready_file['Customer Lifetime Value'].astype(int)\n",
    "ready_file['Income'] = ready_file['Income'].fillna(ready_file['Income'].mean())\n",
    "ready_file['Income'] = ready_file['Income'].replace([0], ready_file['Income'].mean())\n"
   ]
  },
  {
   "cell_type": "code",
   "execution_count": 59,
   "id": "bc95bcd7",
   "metadata": {
    "ExecuteTime": {
     "end_time": "2023-06-12T08:22:21.970403600Z",
     "start_time": "2023-06-12T08:22:21.938247900Z"
    }
   },
   "outputs": [],
   "source": [
    "#Function to replace column \"State\" to different zones. California as West Region, Oregon as North West, and Washington as East, and Arizona and Nevada as Central\n",
    "\n",
    "def zones(x):\n",
    "    if x == 'California':\n",
    "        return 'West Region'\n",
    "    elif x == 'Oregon':\n",
    "        return 'North West'\n",
    "    elif x == 'Washington':\n",
    "        return 'East'\n",
    "    elif x in ['Nevada', 'Arizona']:\n",
    "        return 'Central'\n",
    "    else:\n",
    "        return x\n",
    "    \n",
    "ready_file['State'] = list(map(zones, ready_file['State']))\n"
   ]
  },
  {
   "cell_type": "code",
   "execution_count": 60,
   "id": "28ce0322",
   "metadata": {
    "ExecuteTime": {
     "end_time": "2023-06-12T08:22:23.329867Z",
     "start_time": "2023-06-12T08:22:23.298067500Z"
    }
   },
   "outputs": [
    {
     "data": {
      "text/plain": "             State  Gender             Education  Customer Lifetime Value  \\\n0             East     NaN                Master                   182071   \n1          Central  Female              Bachelor                   697953   \n2          Central  Female              Bachelor                  1288743   \n3      West Region    Male              Bachelor                   764586   \n4             East    Male  High School or Below                   536307   \n...            ...     ...                   ...                      ...   \n12069  West Region    Male              Bachelor                    23405   \n12070  West Region  Female               College                     3096   \n12071  West Region    Male              Bachelor                     8163   \n12072  West Region    Male               College                     7524   \n12073  West Region    Male               College                     2611   \n\n             Income  Monthly Premium Auto  Number of Open Complaints  \\\n0      37824.847055                1000.0                   0.383799   \n1      37824.847055                  94.0                   0.383799   \n2      48767.000000                 108.0                   0.383799   \n3      37824.847055                 106.0                   0.383799   \n4      36357.000000                  68.0                   0.383799   \n...             ...                   ...                        ...   \n12069  71941.000000                  73.0                   0.383799   \n12070  21604.000000                  79.0                   0.383799   \n12071  37824.847055                  85.0                   3.000000   \n12072  21941.000000                  96.0                   0.383799   \n12073  37824.847055                  77.0                   0.383799   \n\n          Policy Type  Vehicle Class  Total Claim Amount  \n0       Personal Auto  Four-Door Car            2.704934  \n1       Personal Auto  Four-Door Car         1131.464935  \n2       Personal Auto   Two-Door Car          566.472247  \n3      Corporate Auto            SUV          529.881344  \n4       Personal Auto  Four-Door Car           17.269323  \n...               ...            ...                 ...  \n12069   Personal Auto  Four-Door Car          198.234764  \n12070  Corporate Auto  Four-Door Car          379.200000  \n12071  Corporate Auto  Four-Door Car          790.784983  \n12072   Personal Auto  Four-Door Car          691.200000  \n12073  Corporate Auto   Two-Door Car          369.600000  \n\n[9135 rows x 10 columns]",
      "text/html": "<div>\n<style scoped>\n    .dataframe tbody tr th:only-of-type {\n        vertical-align: middle;\n    }\n\n    .dataframe tbody tr th {\n        vertical-align: top;\n    }\n\n    .dataframe thead th {\n        text-align: right;\n    }\n</style>\n<table border=\"1\" class=\"dataframe\">\n  <thead>\n    <tr style=\"text-align: right;\">\n      <th></th>\n      <th>State</th>\n      <th>Gender</th>\n      <th>Education</th>\n      <th>Customer Lifetime Value</th>\n      <th>Income</th>\n      <th>Monthly Premium Auto</th>\n      <th>Number of Open Complaints</th>\n      <th>Policy Type</th>\n      <th>Vehicle Class</th>\n      <th>Total Claim Amount</th>\n    </tr>\n  </thead>\n  <tbody>\n    <tr>\n      <th>0</th>\n      <td>East</td>\n      <td>NaN</td>\n      <td>Master</td>\n      <td>182071</td>\n      <td>37824.847055</td>\n      <td>1000.0</td>\n      <td>0.383799</td>\n      <td>Personal Auto</td>\n      <td>Four-Door Car</td>\n      <td>2.704934</td>\n    </tr>\n    <tr>\n      <th>1</th>\n      <td>Central</td>\n      <td>Female</td>\n      <td>Bachelor</td>\n      <td>697953</td>\n      <td>37824.847055</td>\n      <td>94.0</td>\n      <td>0.383799</td>\n      <td>Personal Auto</td>\n      <td>Four-Door Car</td>\n      <td>1131.464935</td>\n    </tr>\n    <tr>\n      <th>2</th>\n      <td>Central</td>\n      <td>Female</td>\n      <td>Bachelor</td>\n      <td>1288743</td>\n      <td>48767.000000</td>\n      <td>108.0</td>\n      <td>0.383799</td>\n      <td>Personal Auto</td>\n      <td>Two-Door Car</td>\n      <td>566.472247</td>\n    </tr>\n    <tr>\n      <th>3</th>\n      <td>West Region</td>\n      <td>Male</td>\n      <td>Bachelor</td>\n      <td>764586</td>\n      <td>37824.847055</td>\n      <td>106.0</td>\n      <td>0.383799</td>\n      <td>Corporate Auto</td>\n      <td>SUV</td>\n      <td>529.881344</td>\n    </tr>\n    <tr>\n      <th>4</th>\n      <td>East</td>\n      <td>Male</td>\n      <td>High School or Below</td>\n      <td>536307</td>\n      <td>36357.000000</td>\n      <td>68.0</td>\n      <td>0.383799</td>\n      <td>Personal Auto</td>\n      <td>Four-Door Car</td>\n      <td>17.269323</td>\n    </tr>\n    <tr>\n      <th>...</th>\n      <td>...</td>\n      <td>...</td>\n      <td>...</td>\n      <td>...</td>\n      <td>...</td>\n      <td>...</td>\n      <td>...</td>\n      <td>...</td>\n      <td>...</td>\n      <td>...</td>\n    </tr>\n    <tr>\n      <th>12069</th>\n      <td>West Region</td>\n      <td>Male</td>\n      <td>Bachelor</td>\n      <td>23405</td>\n      <td>71941.000000</td>\n      <td>73.0</td>\n      <td>0.383799</td>\n      <td>Personal Auto</td>\n      <td>Four-Door Car</td>\n      <td>198.234764</td>\n    </tr>\n    <tr>\n      <th>12070</th>\n      <td>West Region</td>\n      <td>Female</td>\n      <td>College</td>\n      <td>3096</td>\n      <td>21604.000000</td>\n      <td>79.0</td>\n      <td>0.383799</td>\n      <td>Corporate Auto</td>\n      <td>Four-Door Car</td>\n      <td>379.200000</td>\n    </tr>\n    <tr>\n      <th>12071</th>\n      <td>West Region</td>\n      <td>Male</td>\n      <td>Bachelor</td>\n      <td>8163</td>\n      <td>37824.847055</td>\n      <td>85.0</td>\n      <td>3.000000</td>\n      <td>Corporate Auto</td>\n      <td>Four-Door Car</td>\n      <td>790.784983</td>\n    </tr>\n    <tr>\n      <th>12072</th>\n      <td>West Region</td>\n      <td>Male</td>\n      <td>College</td>\n      <td>7524</td>\n      <td>21941.000000</td>\n      <td>96.0</td>\n      <td>0.383799</td>\n      <td>Personal Auto</td>\n      <td>Four-Door Car</td>\n      <td>691.200000</td>\n    </tr>\n    <tr>\n      <th>12073</th>\n      <td>West Region</td>\n      <td>Male</td>\n      <td>College</td>\n      <td>2611</td>\n      <td>37824.847055</td>\n      <td>77.0</td>\n      <td>0.383799</td>\n      <td>Corporate Auto</td>\n      <td>Two-Door Car</td>\n      <td>369.600000</td>\n    </tr>\n  </tbody>\n</table>\n<p>9135 rows × 10 columns</p>\n</div>"
     },
     "execution_count": 60,
     "metadata": {},
     "output_type": "execute_result"
    }
   ],
   "source": [
    "ready_file"
   ]
  },
  {
   "cell_type": "code",
   "execution_count": 65,
   "id": "1782c6b8",
   "metadata": {
    "ExecuteTime": {
     "end_time": "2023-06-12T08:24:06.352189800Z",
     "start_time": "2023-06-12T08:24:06.319772600Z"
    }
   },
   "outputs": [
    {
     "data": {
      "text/plain": "array(['Four-Door Car', 'Two-Door Car', 'SUV', 'Luxury Vehicle',\n       'Sports Car', nan], dtype=object)"
     },
     "execution_count": 65,
     "metadata": {},
     "output_type": "execute_result"
    }
   ],
   "source": [
    "#In the column Vehicle Class, merge the two categories Luxury SUV and Luxury Car into one category named Luxury Vehicle\n",
    "\n",
    "ready_file['Vehicle Class'] = ready_file['Vehicle Class'].replace('Luxury SUV', 'Luxury Vehicle')\n",
    "ready_file['Vehicle Class'] = ready_file['Vehicle Class'].replace('Luxury Car', 'Luxury Vehicle')\n",
    "ready_file['Vehicle Class'].unique()"
   ]
  }
 ],
 "metadata": {
  "kernelspec": {
   "display_name": "Python 3 (ipykernel)",
   "language": "python",
   "name": "python3"
  },
  "language_info": {
   "codemirror_mode": {
    "name": "ipython",
    "version": 3
   },
   "file_extension": ".py",
   "mimetype": "text/x-python",
   "name": "python",
   "nbconvert_exporter": "python",
   "pygments_lexer": "ipython3",
   "version": "3.9.13"
  }
 },
 "nbformat": 4,
 "nbformat_minor": 5
}
